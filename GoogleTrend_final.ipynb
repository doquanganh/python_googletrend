{
 "cells": [
  {
   "cell_type": "code",
   "execution_count": 1,
   "metadata": {},
   "outputs": [],
   "source": [
    "from pytrends.request import TrendReq\n",
    "import pandas as pd\n",
    "import os\n",
    "import os.path\n",
    "import pandas as pd\n",
    "import time\n",
    "import psycopg2 \n",
    "import psycopg2.extras as extras\n",
    "import matplotlib.pyplot as plt"
   ]
  },
  {
   "cell_type": "code",
   "execution_count": null,
   "metadata": {},
   "outputs": [],
   "source": [
    "def menu():\n",
    "    print(30 * \"-\", \"MENU\", 30 * \"-\")\n",
    "    print(\"1. Lấy dữ liệu trending từ file. \")\n",
    "    print(\"2. Xuất báo cáo top 10 trending\")\n",
    "    print(\"3. Xuất báo cáo search keyword in 2020\")\n",
    "    print(\"4. Vẽ biểu đồ line chart top 5 trending các từ khóa tìm kiếm nhiều nhất 2020\")\n",
    "    print(\"5. Vẽ biểu đồ bar chart top 5 trending các từ khóa tìm kiếm nhiều nhất 2019\")\n",
    "    print(\"6. Thống kê tìm kiếm top trending 5 từ khóa trong 2 năm 2020, 2019\")\n",
    "    print(9 * \".\")\n",
    "    print(\"99.Thoát\")\n",
    "\n",
    "#loop=True\n",
    "#while loop:\n",
    "#    menu()\n",
    "#    choice=input(\"Enter join choice[1-5]:\")\n",
    "#    if choice=='1':\n",
    "#        print(\"Menu 1 has been selected\")\n",
    "#    elif choice=='99':\n",
    "#        loop=False\n",
    "#        menu()\n",
    "#    elif choice=='5':\n",
    "#        loop=False\n",
    "menu()\n",
    "choice=input(\"Enter join choice[1-5]:\")\n",
    "if choice=='1':\n",
    "    fromDate=input('Tu ngay')\n",
    "    to_date=input('Den Ngay')\n",
    "elif choice=='99':\n",
    "    menu()\n",
    "elif choice=='5':\n",
    "    print('Exit')"
   ]
  },
  {
   "cell_type": "code",
   "execution_count": 2,
   "metadata": {},
   "outputs": [],
   "source": [
    "def checkExitsFile(inputFile):\n",
    "    #if os.path.isfile(\"/{file}.{ext}\".format(file=inputFile, ext=\"xlsx\")):\n",
    "    if os.path.isfile(inputFile):\n",
    "        return True\n",
    "    else:\n",
    "        return False\n",
    "\n"
   ]
  },
  {
   "cell_type": "code",
   "execution_count": 10,
   "metadata": {},
   "outputs": [],
   "source": [
    "def connect():\n",
    "    \"\"\" Connect to the PostgreSQL database server \"\"\"\n",
    "    conn, cur = None, None\n",
    "    try:\n",
    "        # connect to the PostgreSQL server\n",
    "        print('Connecting to the PostgreSQL database...')\n",
    "        conn = psycopg2.connect(\n",
    "            host=\"localhost\", port=\"5432\",\n",
    "            database=\"googleTrends\",\n",
    "            user=\"postgres\",\n",
    "            password=\"Qu@ng@nh\")\n",
    "        # create a cursor\n",
    "        cur = conn.cursor()\n",
    "    except (Exception, psycopg2.DatabaseError) as error:\n",
    "        print(\"Error while excuting SQL\" + error)\n",
    "\n",
    "    return conn, cur"
   ]
  },
  {
   "cell_type": "code",
   "execution_count": 12,
   "metadata": {},
   "outputs": [],
   "source": [
    "def getDataFromGoogleTrend(inputFile,FromDate,ToDate):\n",
    "    \n",
    "    strTimeFrame=FromDate+' '+ToDate\n",
    "    checkFile=checkExitsFile(inputFile)\n",
    "    if checkFile==True:\n",
    "        df_raw = pd.read_excel(inputFile, sheet_name='key_word')\n",
    "        #Thay the cot co ky tu / thanh _\n",
    "        df = df_raw.rename(columns=lambda b: b.replace(\"/ \",\"_\"))\n",
    "        column_list = df.columns.ravel()\n",
    "        \n",
    "        #lay du lieu tu googletrends\n",
    "        df_db=[]\n",
    "        pytrend = TrendReq(hl='vi-VN', tz=360, timeout=10)\n",
    "        for i in column_list:\n",
    "            dataset = []\n",
    "            keywords = list(df[i].dropna()) \n",
    "            for x in range(0,len(keywords)):\n",
    "                keyword =[keywords[x]]\n",
    "                pytrend.build_payload(\n",
    "                    kw_list=keyword,\n",
    "                    cat=0,\n",
    "                    timeframe=strTimeFrame,\n",
    "                    geo='VN',\n",
    "                    gprop=''\n",
    "                )\n",
    "                data=pytrend.interest_over_time()\n",
    "                if not data.empty:\n",
    "                    data = data.drop(labels=['isPartial'],axis='columns')\n",
    "                    dataset.append(data)\n",
    "            result=pd.concat(dataset,axis=1)\n",
    "\n",
    "           #Tao dataframe cau truc giong voi DB \n",
    "            result.reset_index(level=0, inplace=True)\n",
    "            df_melt=pd.melt(result, id_vars=[\"date\"],var_name=\"Keywords\", value_name=\"Value\")\n",
    "            df_melt['Trend_type'] = i   \n",
    "            #result_final=pd.concat([df_melt],ignore_index=True)\n",
    "            df_db.append(df_melt)\n",
    "        df_db_final = pd.concat(df_db)        \n",
    "     \n",
    "        return df_db_final\n",
    "        \n",
    "    else:\n",
    "        print('File khong ton tai')\n",
    "    \n",
    "\n",
    "        \n",
    "            "
   ]
  },
  {
   "cell_type": "code",
   "execution_count": 13,
   "metadata": {},
   "outputs": [],
   "source": [
    "df=getDataFromGoogleTrend('keytrends.xlsx','2019-01-01','2020-12-31')"
   ]
  },
  {
   "cell_type": "code",
   "execution_count": 14,
   "metadata": {},
   "outputs": [
    {
     "name": "stdout",
     "output_type": "stream",
     "text": [
      "           date              Keywords  Value Trend_type\n",
      "0    2019-01-06  Bầu cử Tổng thống Mỹ      0       news\n",
      "1    2019-01-13  Bầu cử Tổng thống Mỹ      0       news\n",
      "2    2019-01-20  Bầu cử Tổng thống Mỹ      0       news\n",
      "3    2019-01-27  Bầu cử Tổng thống Mỹ      0       news\n",
      "4    2019-02-03  Bầu cử Tổng thống Mỹ      0       news\n",
      "...         ...                   ...    ...        ...\n",
      "1035 2020-11-29         Du lịch Cô Tô      7     travel\n",
      "1036 2020-12-06         Du lịch Cô Tô      0     travel\n",
      "1037 2020-12-13         Du lịch Cô Tô     14     travel\n",
      "1038 2020-12-20         Du lịch Cô Tô      0     travel\n",
      "1039 2020-12-27         Du lịch Cô Tô      0     travel\n",
      "\n",
      "[6760 rows x 4 columns]\n"
     ]
    }
   ],
   "source": [
    "print(df)"
   ]
  },
  {
   "cell_type": "code",
   "execution_count": 20,
   "metadata": {},
   "outputs": [],
   "source": [
    "def insertGoogleTrend2DB(data,fromDate,toDate):\n",
    "    #df=getDataFromGoogleTrend('keytrends.xlsx',fromDate,toDate)\n",
    "    df=data\n",
    "    #Insert vao DB\n",
    "    conn, cur = connect()\n",
    "    #Xoa du lieu\n",
    "    #truncate table\n",
    "    cur.execute('delete from vn_trending where date between '+fromDate+' AND '+toDate+'')\n",
    "    conn.commit()\n",
    "\n",
    "    # Creating a list of tupples from the dataframe values\n",
    "    tpls = [tuple(x) for x in df.to_numpy()]\n",
    "\n",
    "    # dataframe columns with Comma-separated\n",
    "    cols = ','.join(list(df.columns))\n",
    "\n",
    "    # SQL query to execute\n",
    "    sql = \"INSERT INTO %s(%s) VALUES %%s\" % (\"vn_trending\", cols)\n",
    "\n",
    "    extras.execute_values(cur, sql, tpls)\n",
    "    conn.commit()\n",
    "    print(\"Data inserted using execute_values() successfully..\")"
   ]
  },
  {
   "cell_type": "code",
   "execution_count": 21,
   "metadata": {},
   "outputs": [
    {
     "name": "stdout",
     "output_type": "stream",
     "text": [
      "Connecting to the PostgreSQL database...\n"
     ]
    },
    {
     "ename": "UndefinedTable",
     "evalue": "relation \"vn_trending\" does not exist\nLINE 1: delete from vn_trending where date between 2019-01-01 AND 20...\n                    ^\n",
     "output_type": "error",
     "traceback": [
      "\u001b[1;31m---------------------------------------------------------------------------\u001b[0m",
      "\u001b[1;31mUndefinedTable\u001b[0m                            Traceback (most recent call last)",
      "\u001b[1;32m<ipython-input-21-7a51b19bf6fa>\u001b[0m in \u001b[0;36m<module>\u001b[1;34m()\u001b[0m\n\u001b[1;32m----> 1\u001b[1;33m \u001b[0minsertGoogleTrend2DB\u001b[0m\u001b[1;33m(\u001b[0m\u001b[1;34m'2019-01-01'\u001b[0m\u001b[1;33m,\u001b[0m\u001b[1;34m'2020-12-31'\u001b[0m\u001b[1;33m)\u001b[0m\u001b[1;33m\u001b[0m\u001b[0m\n\u001b[0m",
      "\u001b[1;32m<ipython-input-20-97d2035ac318>\u001b[0m in \u001b[0;36minsertGoogleTrend2DB\u001b[1;34m(fromDate, toDate)\u001b[0m\n\u001b[0;32m      5\u001b[0m     \u001b[1;31m#Xoa du lieu\u001b[0m\u001b[1;33m\u001b[0m\u001b[1;33m\u001b[0m\u001b[0m\n\u001b[0;32m      6\u001b[0m     \u001b[1;31m#truncate table\u001b[0m\u001b[1;33m\u001b[0m\u001b[1;33m\u001b[0m\u001b[0m\n\u001b[1;32m----> 7\u001b[1;33m     \u001b[0mcur\u001b[0m\u001b[1;33m.\u001b[0m\u001b[0mexecute\u001b[0m\u001b[1;33m(\u001b[0m\u001b[1;34m'delete from vn_trending where date between '\u001b[0m\u001b[1;33m+\u001b[0m\u001b[0mfromDate\u001b[0m\u001b[1;33m+\u001b[0m\u001b[1;34m' AND '\u001b[0m\u001b[1;33m+\u001b[0m\u001b[0mtoDate\u001b[0m\u001b[1;33m+\u001b[0m\u001b[1;34m''\u001b[0m\u001b[1;33m)\u001b[0m\u001b[1;33m\u001b[0m\u001b[0m\n\u001b[0m\u001b[0;32m      8\u001b[0m     \u001b[0mconn\u001b[0m\u001b[1;33m.\u001b[0m\u001b[0mcommit\u001b[0m\u001b[1;33m(\u001b[0m\u001b[1;33m)\u001b[0m\u001b[1;33m\u001b[0m\u001b[0m\n\u001b[0;32m      9\u001b[0m \u001b[1;33m\u001b[0m\u001b[0m\n",
      "\u001b[1;31mUndefinedTable\u001b[0m: relation \"vn_trending\" does not exist\nLINE 1: delete from vn_trending where date between 2019-01-01 AND 20...\n                    ^\n"
     ]
    }
   ],
   "source": [
    "insertGoogleTrend2DB('2019-01-01','2020-12-31')"
   ]
  },
  {
   "cell_type": "code",
   "execution_count": null,
   "metadata": {},
   "outputs": [],
   "source": []
  }
 ],
 "metadata": {
  "kernelspec": {
   "display_name": "Python 3",
   "language": "python",
   "name": "python3"
  },
  "language_info": {
   "codemirror_mode": {
    "name": "ipython",
    "version": 3
   },
   "file_extension": ".py",
   "mimetype": "text/x-python",
   "name": "python",
   "nbconvert_exporter": "python",
   "pygments_lexer": "ipython3",
   "version": "3.6.5"
  }
 },
 "nbformat": 4,
 "nbformat_minor": 2
}
