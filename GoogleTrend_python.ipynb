{
 "cells": [
  {
   "cell_type": "code",
   "execution_count": 2,
   "metadata": {},
   "outputs": [
    {
     "name": "stdout",
     "output_type": "stream",
     "text": [
      "Collecting pytrends\n",
      "  Downloading pytrends-4.7.3-py3-none-any.whl (14 kB)\n",
      "Requirement already satisfied: pandas>=0.25 in c:\\programdata\\anaconda3\\lib\\site-packages (from pytrends) (1.0.1)\n",
      "Requirement already satisfied: lxml in c:\\programdata\\anaconda3\\lib\\site-packages (from pytrends) (4.2.1)\n",
      "Requirement already satisfied: requests in c:\\programdata\\anaconda3\\lib\\site-packages (from pytrends) (2.18.4)\n",
      "Requirement already satisfied: python-dateutil>=2.6.1 in c:\\programdata\\anaconda3\\lib\\site-packages (from pandas>=0.25->pytrends) (2.7.3)\n",
      "Requirement already satisfied: pytz>=2017.2 in c:\\programdata\\anaconda3\\lib\\site-packages (from pandas>=0.25->pytrends) (2018.4)\n",
      "Requirement already satisfied: numpy>=1.13.3 in c:\\programdata\\anaconda3\\lib\\site-packages (from pandas>=0.25->pytrends) (1.18.1)\n",
      "Requirement already satisfied: chardet<3.1.0,>=3.0.2 in c:\\programdata\\anaconda3\\lib\\site-packages (from requests->pytrends) (3.0.4)\n",
      "Requirement already satisfied: idna<2.7,>=2.5 in c:\\programdata\\anaconda3\\lib\\site-packages (from requests->pytrends) (2.6)\n",
      "Requirement already satisfied: urllib3<1.23,>=1.21.1 in c:\\programdata\\anaconda3\\lib\\site-packages (from requests->pytrends) (1.22)\n",
      "Requirement already satisfied: certifi>=2017.4.17 in c:\\programdata\\anaconda3\\lib\\site-packages (from requests->pytrends) (2020.12.5)\n",
      "Requirement already satisfied: six>=1.5 in c:\\programdata\\anaconda3\\lib\\site-packages (from python-dateutil>=2.6.1->pandas>=0.25->pytrends) (1.11.0)\n",
      "Installing collected packages: pytrends\n",
      "Successfully installed pytrends-4.7.3\n"
     ]
    },
    {
     "name": "stderr",
     "output_type": "stream",
     "text": [
      "WARNING: You are using pip version 20.0.2; however, version 21.0.1 is available.\n",
      "You should consider upgrading via the 'c:\\programdata\\anaconda3\\python.exe -m pip install --upgrade pip' command.\n"
     ]
    }
   ],
   "source": [
    "!pip install pytrends\n"
   ]
  },
  {
   "cell_type": "code",
   "execution_count": 3,
   "metadata": {},
   "outputs": [
    {
     "name": "stdout",
     "output_type": "stream",
     "text": [
      "Requirement already up-to-date: pytrends in c:\\programdata\\anaconda3\\lib\\site-packages (4.7.3)\n",
      "Requirement already satisfied, skipping upgrade: requests in c:\\programdata\\anaconda3\\lib\\site-packages (from pytrends) (2.18.4)\n",
      "Requirement already satisfied, skipping upgrade: pandas>=0.25 in c:\\programdata\\anaconda3\\lib\\site-packages (from pytrends) (1.0.1)\n",
      "Requirement already satisfied, skipping upgrade: lxml in c:\\programdata\\anaconda3\\lib\\site-packages (from pytrends) (4.2.1)\n",
      "Requirement already satisfied, skipping upgrade: chardet<3.1.0,>=3.0.2 in c:\\programdata\\anaconda3\\lib\\site-packages (from requests->pytrends) (3.0.4)\n",
      "Requirement already satisfied, skipping upgrade: idna<2.7,>=2.5 in c:\\programdata\\anaconda3\\lib\\site-packages (from requests->pytrends) (2.6)\n",
      "Requirement already satisfied, skipping upgrade: urllib3<1.23,>=1.21.1 in c:\\programdata\\anaconda3\\lib\\site-packages (from requests->pytrends) (1.22)\n",
      "Requirement already satisfied, skipping upgrade: certifi>=2017.4.17 in c:\\programdata\\anaconda3\\lib\\site-packages (from requests->pytrends) (2020.12.5)\n",
      "Requirement already satisfied, skipping upgrade: numpy>=1.13.3 in c:\\programdata\\anaconda3\\lib\\site-packages (from pandas>=0.25->pytrends) (1.18.1)\n",
      "Requirement already satisfied, skipping upgrade: python-dateutil>=2.6.1 in c:\\programdata\\anaconda3\\lib\\site-packages (from pandas>=0.25->pytrends) (2.7.3)\n",
      "Requirement already satisfied, skipping upgrade: pytz>=2017.2 in c:\\programdata\\anaconda3\\lib\\site-packages (from pandas>=0.25->pytrends) (2018.4)\n",
      "Requirement already satisfied, skipping upgrade: six>=1.5 in c:\\programdata\\anaconda3\\lib\\site-packages (from python-dateutil>=2.6.1->pandas>=0.25->pytrends) (1.11.0)\n"
     ]
    },
    {
     "name": "stderr",
     "output_type": "stream",
     "text": [
      "WARNING: You are using pip version 20.0.2; however, version 21.0.1 is available.\n",
      "You should consider upgrading via the 'c:\\programdata\\anaconda3\\python.exe -m pip install --upgrade pip' command.\n"
     ]
    }
   ],
   "source": [
    "!pip install pytrends --upgrade"
   ]
  },
  {
   "cell_type": "code",
   "execution_count": 37,
   "metadata": {},
   "outputs": [],
   "source": [
    "from pytrends.request import TrendReq"
   ]
  },
  {
   "cell_type": "code",
   "execution_count": 38,
   "metadata": {},
   "outputs": [],
   "source": [
    "import pandas as pd\n",
    "import time\n",
    "import psycopg2 "
   ]
  },
  {
   "cell_type": "code",
   "execution_count": 39,
   "metadata": {},
   "outputs": [
    {
     "name": "stdout",
     "output_type": "stream",
     "text": [
      "Connecting to the PostgreSQL database...\n",
      "PostgreSQL database version:\n",
      "('PostgreSQL 13.2, compiled by Visual C++ build 1914, 64-bit',)\n",
      "Database connection closed.\n"
     ]
    }
   ],
   "source": []
  },
  {
   "cell_type": "code",
   "execution_count": 40,
   "metadata": {},
   "outputs": [
    {
     "data": {
      "text/html": [
       "<div>\n",
       "<style scoped>\n",
       "    .dataframe tbody tr th:only-of-type {\n",
       "        vertical-align: middle;\n",
       "    }\n",
       "\n",
       "    .dataframe tbody tr th {\n",
       "        vertical-align: top;\n",
       "    }\n",
       "\n",
       "    .dataframe thead th {\n",
       "        text-align: right;\n",
       "    }\n",
       "</style>\n",
       "<table border=\"1\" class=\"dataframe\">\n",
       "  <thead>\n",
       "    <tr style=\"text-align: right;\">\n",
       "      <th></th>\n",
       "      <th>news</th>\n",
       "      <th>person</th>\n",
       "      <th>film</th>\n",
       "      <th>elearning_online</th>\n",
       "      <th>diseases</th>\n",
       "      <th>songs</th>\n",
       "      <th>travel</th>\n",
       "    </tr>\n",
       "  </thead>\n",
       "  <tbody>\n",
       "    <tr>\n",
       "      <th>0</th>\n",
       "      <td>Bầu cử Tổng thống Mỹ</td>\n",
       "      <td>Nguyễn Đức Chung</td>\n",
       "      <td>Ký Sinh Trùng</td>\n",
       "      <td>Zoom</td>\n",
       "      <td>Coronavirus tips</td>\n",
       "      <td>Anh Thanh Niên</td>\n",
       "      <td>Du lịch Cát Bà</td>\n",
       "    </tr>\n",
       "    <tr>\n",
       "      <th>1</th>\n",
       "      <td>Covid 19</td>\n",
       "      <td>Đường Nhuệ</td>\n",
       "      <td>Pháp Sư Mù</td>\n",
       "      <td>Vnedu</td>\n",
       "      <td>Covid 19</td>\n",
       "      <td>Hoa Nở Không Màu</td>\n",
       "      <td>Du lịch Đà Lạt</td>\n",
       "    </tr>\n",
       "    <tr>\n",
       "      <th>2</th>\n",
       "      <td>Tuấn 'khỉ'</td>\n",
       "      <td>Donald Trump</td>\n",
       "      <td>Mắt Biếc</td>\n",
       "      <td>Smas</td>\n",
       "      <td>Triệu chứng corona</td>\n",
       "      <td>Buồn Làm Chi Em Ơi</td>\n",
       "      <td>Du lịch Sapa</td>\n",
       "    </tr>\n",
       "    <tr>\n",
       "      <th>3</th>\n",
       "      <td>iPhone 12</td>\n",
       "      <td>Joe Biden</td>\n",
       "      <td>Tiệc Trăng Máu</td>\n",
       "      <td>Viettelstudy</td>\n",
       "      <td>Bộ Y Tế</td>\n",
       "      <td>Sai Lầm Của Anh</td>\n",
       "      <td>Du lịch Đà Nẵng</td>\n",
       "    </tr>\n",
       "    <tr>\n",
       "      <th>4</th>\n",
       "      <td>Vụ án Hồ Duy Hải</td>\n",
       "      <td>Jack</td>\n",
       "      <td>One Piece Stampede</td>\n",
       "      <td>Google classroom</td>\n",
       "      <td>Khẩu trang n95</td>\n",
       "      <td>Hoa Hải Đường</td>\n",
       "      <td>Du lịch Thới Sơn</td>\n",
       "    </tr>\n",
       "  </tbody>\n",
       "</table>\n",
       "</div>"
      ],
      "text/plain": [
       "                   news            person                film  \\\n",
       "0  Bầu cử Tổng thống Mỹ  Nguyễn Đức Chung       Ký Sinh Trùng   \n",
       "1              Covid 19        Đường Nhuệ          Pháp Sư Mù   \n",
       "2            Tuấn 'khỉ'      Donald Trump            Mắt Biếc   \n",
       "3             iPhone 12         Joe Biden      Tiệc Trăng Máu   \n",
       "4      Vụ án Hồ Duy Hải              Jack  One Piece Stampede   \n",
       "\n",
       "   elearning_online            diseases               songs            travel  \n",
       "0              Zoom    Coronavirus tips      Anh Thanh Niên   Du lịch Cát Bà   \n",
       "1             Vnedu            Covid 19    Hoa Nở Không Màu   Du lịch Đà Lạt   \n",
       "2              Smas  Triệu chứng corona  Buồn Làm Chi Em Ơi     Du lịch Sapa   \n",
       "3      Viettelstudy             Bộ Y Tế     Sai Lầm Của Anh  Du lịch Đà Nẵng   \n",
       "4  Google classroom      Khẩu trang n95       Hoa Hải Đường  Du lịch Thới Sơn  "
      ]
     },
     "execution_count": 40,
     "metadata": {},
     "output_type": "execute_result"
    }
   ],
   "source": [
    "df_raw = pd.read_excel(\"keytrends.xlsx\", sheet_name='key_word')\n",
    "#Thay the cot co ky tu / thanh _\n",
    "df = df_raw.rename(columns=lambda b: b.replace(\"/ \",\"_\"))\n",
    "df.head()"
   ]
  },
  {
   "cell_type": "code",
   "execution_count": 41,
   "metadata": {},
   "outputs": [
    {
     "name": "stdout",
     "output_type": "stream",
     "text": [
      "['news' 'person' 'film' 'elearning_online' 'diseases' 'songs' 'travel']\n"
     ]
    }
   ],
   "source": [
    "column_list = df.columns.ravel()\n",
    "print(column_list)"
   ]
  },
  {
   "cell_type": "code",
   "execution_count": 50,
   "metadata": {},
   "outputs": [],
   "source": [
    "# Tao file excel\n",
    "df_db=[]\n",
    "writer=pd.ExcelWriter('vn_trend_2020.xlsx', engine='xlsxwriter')\n",
    "#lay du lieu tu google trend\n",
    "pytrend = TrendReq(hl='vi-VN', tz=360, timeout=10)\n",
    "for i in column_list:\n",
    "    dataset = []\n",
    "    keywords = list(df[i].dropna()) \n",
    "    for x in range(0,len(keywords)):\n",
    "        keyword =[keywords[x]]\n",
    "        pytrend.build_payload(\n",
    "            kw_list=keyword,\n",
    "            cat=0,\n",
    "            timeframe='2020-01-01 2020-12-31',\n",
    "            geo='VN',\n",
    "            gprop=''\n",
    "        )\n",
    "        data=pytrend.interest_over_time()\n",
    "        if not data.empty:\n",
    "            data = data.drop(labels=['isPartial'],axis='columns')\n",
    "            dataset.append(data)\n",
    "    result=pd.concat(dataset,axis=1)\n",
    "    result.to_excel(writer,sheet_name=i)\n",
    "    \n",
    "   #Tao dataframe cau truc giong voi DB \n",
    "    result.reset_index(level=0, inplace=True)\n",
    "    df_melt=pd.melt(result, id_vars=[\"date\"],var_name=\"Keywords\", value_name=\"Value\")\n",
    "    df_melt['Trend_type'] = i   \n",
    "    #result_final=pd.concat([df_melt],ignore_index=True)\n",
    "    df_db.append(df_melt)\n",
    "    \n",
    "#Save excel \n",
    "writer.save()\n",
    "df_db_final = pd.concat(df_db)\n",
    "df_db_final.to_csv('all.csv')\n"
   ]
  },
  {
   "cell_type": "markdown",
   "metadata": {},
   "source": [
    "<h1> Insert dữ liệu vào postgresql và đưa kết quả top 10 keyword ra file</h1>"
   ]
  },
  {
   "cell_type": "markdown",
   "metadata": {},
   "source": [
    "CREATE TABLE public.vn_trending\n",
    "(\n",
    "    \"ID\" integer NOT NULL DEFAULT nextval('\"trending_ID_seq\"'::regclass),\n",
    "    date date,\n",
    "    keywords character varying COLLATE pg_catalog.\"default\",\n",
    "    value bigint,\n",
    "    trend_type character varying COLLATE pg_catalog.\"default\",\n",
    "    CONSTRAINT trending_pkey PRIMARY KEY (\"ID\")\n",
    ")\n"
   ]
  },
  {
   "cell_type": "code",
   "execution_count": 52,
   "metadata": {},
   "outputs": [],
   "source": [
    "import psycopg2.extras as extras"
   ]
  },
  {
   "cell_type": "code",
   "execution_count": 65,
   "metadata": {},
   "outputs": [
    {
     "name": "stdout",
     "output_type": "stream",
     "text": [
      "Connecting to the PostgreSQL database...\n",
      "Data inserted using execute_values() successfully..\n",
      "             keywords sum_Value\n",
      "0                Jack      3441\n",
      "1       Du lịch Sapa       2303\n",
      "2          Tiêu Chiến      2160\n",
      "3    Du lịch Mộc Châu      2060\n",
      "4  Buồn Làm Chi Em Ơi      1993\n",
      "5     Du lịch Đà Lạt       1777\n",
      "6  Du lịch Nha Trang       1687\n",
      "7      Anh Thanh Niên      1666\n",
      "8       Bánh Mì Không      1627\n",
      "9             Bộ Y Tế      1615\n",
      "Database connection closed.\n"
     ]
    }
   ],
   "source": [
    "\n",
    "try:\n",
    "    \n",
    "    print('Connecting to the PostgreSQL database...')\n",
    "    conn=psycopg2.connect(\n",
    "        host=\"localhost\",\n",
    "        database=\"GoogleTrend\",\n",
    "        user=\"postgres\",\n",
    "        password=\"Qu@ng@nh\")\n",
    "    \n",
    "    cursor = conn.cursor()\n",
    "    \n",
    "    #truncate table\n",
    "    cursor.execute('truncate table vn_trending')\n",
    "    \n",
    "    # Creating a list of tupples from the dataframe values\n",
    "    tpls = [tuple(x) for x in df_db_final.to_numpy()]\n",
    "    \n",
    "    # dataframe columns with Comma-separated\n",
    "    cols = ','.join(list(df_db_final.columns))\n",
    "    \n",
    "    # SQL query to execute\n",
    "    sql = \"INSERT INTO %s(%s) VALUES %%s\" % (\"vn_trending\", cols)\n",
    "\n",
    "    extras.execute_values(cursor, sql, tpls)\n",
    "    conn.commit()\n",
    "    print(\"Data inserted using execute_values() successfully..\")\n",
    "\n",
    "   \n",
    "\n",
    "     ##select top 10\n",
    "    # declare a cursor object from the connection\n",
    "\n",
    "    sql_top = \"select keywords, sum(Value) as sum_Value from vn_trending group by keywords order by sum(Value) desc limit 10\"\n",
    "    cursor.execute(sql_top)\n",
    "    # Fetch all the records\n",
    "    tuples = cursor.fetchall()\n",
    "    # Preparing list of columns for dataframe\n",
    "    df_top = pd.DataFrame(tuples,columns=['keywords','sum_Value'])\n",
    "    print(df_top.head(100))\n",
    "    ##Ghi ra excel\n",
    "    df_top.to_excel('vn_trending_result.xls')\n",
    "    \n",
    "    # close the connection object\n",
    "    conn.close()\n",
    "\n",
    "        \n",
    "        \n",
    "except (Exception, psycopg2.DatabaseError) as error:\n",
    "    print(error)\n",
    "finally:\n",
    "    if conn is not None:\n",
    "        conn.close()\n",
    "        print('Database connection closed.')"
   ]
  },
  {
   "cell_type": "code",
   "execution_count": null,
   "metadata": {},
   "outputs": [],
   "source": []
  }
 ],
 "metadata": {
  "kernelspec": {
   "display_name": "Python 3",
   "language": "python",
   "name": "python3"
  },
  "language_info": {
   "codemirror_mode": {
    "name": "ipython",
    "version": 3
   },
   "file_extension": ".py",
   "mimetype": "text/x-python",
   "name": "python",
   "nbconvert_exporter": "python",
   "pygments_lexer": "ipython3",
   "version": "3.8.3"
  }
 },
 "nbformat": 4,
 "nbformat_minor": 4
}
