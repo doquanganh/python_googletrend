{
 "cells": [
  {
   "cell_type": "code",
   "execution_count": 138,
   "metadata": {},
   "outputs": [],
   "source": [
    "from pytrends.request import TrendReq"
   ]
  },
  {
   "cell_type": "code",
   "execution_count": 139,
   "metadata": {},
   "outputs": [],
   "source": [
    "import pandas as pd\n",
    "import time\n",
    "import psycopg2 \n",
    "import psycopg2.extras as extras\n",
    "import matplotlib.pyplot as plt"
   ]
  },
  {
   "cell_type": "code",
   "execution_count": 140,
   "metadata": {},
   "outputs": [],
   "source": [
    "df_raw = pd.read_excel(\"keytrends.xlsx\", sheet_name='key_word')\n",
    "#Thay the cot co ky tu / thanh _\n",
    "df = df_raw.rename(columns=lambda b: b.replace(\"/ \",\"_\"))\n",
    "#df.head()"
   ]
  },
  {
   "cell_type": "code",
   "execution_count": 141,
   "metadata": {},
   "outputs": [],
   "source": [
    "column_list = df.columns.ravel()\n",
    "#print(column_list)"
   ]
  },
  {
   "cell_type": "code",
   "execution_count": 146,
   "metadata": {},
   "outputs": [],
   "source": [
    "# Tao file excel\n",
    "df_db=[]\n",
    "writer=pd.ExcelWriter('vn_trend_2020.xlsx', engine='xlsxwriter')\n",
    "#lay du lieu tu google trend\n",
    "pytrend = TrendReq(hl='vi-VN', tz=360, timeout=10)\n",
    "for i in column_list:\n",
    "    dataset = []\n",
    "    keywords = list(df[i].dropna()) \n",
    "    for x in range(0,len(keywords)):\n",
    "        keyword =[keywords[x]]\n",
    "        pytrend.build_payload(\n",
    "            kw_list=keyword,\n",
    "            cat=0,\n",
    "            timeframe='2019-01-01 2020-12-31',\n",
    "            geo='VN',\n",
    "            gprop=''\n",
    "        )\n",
    "        data=pytrend.interest_over_time()\n",
    "        if not data.empty:\n",
    "            data = data.drop(labels=['isPartial'],axis='columns')\n",
    "            dataset.append(data)\n",
    "    result=pd.concat(dataset,axis=1)\n",
    "    result.to_excel(writer,sheet_name=i)\n",
    "    \n",
    "   #Tao dataframe cau truc giong voi DB \n",
    "    result.reset_index(level=0, inplace=True)\n",
    "    df_melt=pd.melt(result, id_vars=[\"date\"],var_name=\"Keywords\", value_name=\"Value\")\n",
    "    df_melt['Trend_type'] = i   \n",
    "    #result_final=pd.concat([df_melt],ignore_index=True)\n",
    "    df_db.append(df_melt)\n",
    "    \n",
    "#Save excel \n",
    "writer.save()\n",
    "df_db_final = pd.concat(df_db)"
   ]
  },
  {
   "cell_type": "markdown",
   "metadata": {},
   "source": [
    "<h1> Insert dữ liệu vào postgresql và đưa kết quả top 10 keyword ra file</h1>"
   ]
  },
  {
   "cell_type": "markdown",
   "metadata": {},
   "source": [
    "CREATE TABLE public.vn_trending\n",
    "(\n",
    "    \"ID\" integer NOT NULL DEFAULT nextval('\"trending_ID_seq\"'::regclass),\n",
    "    date date,\n",
    "    keywords character varying COLLATE pg_catalog.\"default\",\n",
    "    value bigint,\n",
    "    trend_type character varying COLLATE pg_catalog.\"default\",\n",
    "    CONSTRAINT trending_pkey PRIMARY KEY (\"ID\")\n",
    ")\n"
   ]
  },
  {
   "cell_type": "code",
   "execution_count": 156,
   "metadata": {},
   "outputs": [
    {
     "name": "stdout",
     "output_type": "stream",
     "text": [
      "Connecting to the PostgreSQL database...\n",
      "Data inserted using execute_values() successfully..\n",
      "             keywords sum_Value\n",
      "0    Du lịch Đà Nẵng       5124\n",
      "1     Du lịch Đà Lạt       4611\n",
      "2       Du lịch Sapa       4581\n",
      "3  Du lịch Nha Trang       3873\n",
      "4          Tiêu Chiến      3466\n",
      "5            Sóng Gió      2732\n",
      "6    Du lịch Mộc Châu      2708\n",
      "7                Jack      2262\n",
      "8     Du lịch Cát Bà       2204\n",
      "9    Du lịch Sầm Sơn       2170\n"
     ]
    }
   ],
   "source": [
    "try:\n",
    "    print('Connecting to the PostgreSQL database...')\n",
    "    conn=psycopg2.connect(\n",
    "        host=\"localhost\",\n",
    "        database=\"GoogleTrend\",\n",
    "        user=\"postgres\",\n",
    "        password=\"Qu@ng@nh\")\n",
    "    \n",
    "    cursor = conn.cursor()\n",
    "    \n",
    "    #truncate table\n",
    "    cursor.execute('truncate table vn_trending')\n",
    "    \n",
    "    # Creating a list of tupples from the dataframe values\n",
    "    tpls = [tuple(x) for x in df_db_final.to_numpy()]\n",
    "    \n",
    "    # dataframe columns with Comma-separated\n",
    "    cols = ','.join(list(df_db_final.columns))\n",
    "    \n",
    "    # SQL query to execute\n",
    "    sql = \"INSERT INTO %s(%s) VALUES %%s\" % (\"vn_trending\", cols)\n",
    "\n",
    "    extras.execute_values(cursor, sql, tpls)\n",
    "    conn.commit()\n",
    "    print(\"Data inserted using execute_values() successfully..\")\n",
    "\n",
    "     ##select top 10\n",
    "    # declare a cursor object from the connection\n",
    "\n",
    "    sql_top = \"select keywords, sum(Value) as sum_Value from vn_trending group by keywords order by sum(Value) desc limit 10\"\n",
    "    cursor.execute(sql_top)\n",
    "    # Fetch all the records\n",
    "    tuples = cursor.fetchall()\n",
    "    # Preparing list of columns for dataframe\n",
    "    df_top = pd.DataFrame(tuples,columns=['keywords','sum_Value'])\n",
    "    print(df_top.head(100))\n",
    "    ##Ghi ra excel\n",
    "    df_top.to_excel('vn_trending_result.xls')\n",
    "        \n",
    "except (Exception, psycopg2.DatabaseError) as error:\n",
    "    print(error)\n",
    "#finally:\n",
    "#    if conn is not None:\n",
    "#        conn.close()\n",
    "#        print('Database connection closed.')"
   ]
  },
  {
   "cell_type": "markdown",
   "metadata": {},
   "source": [
    "<h1> Giai đoạn 3</h1>"
   ]
  },
  {
   "cell_type": "markdown",
   "metadata": {},
   "source": [
    "<h2> Bài 1: Pivot table và xuất ra excel</h2>"
   ]
  },
  {
   "cell_type": "code",
   "execution_count": 157,
   "metadata": {},
   "outputs": [],
   "source": [
    "writer1=pd.ExcelWriter('vn_trending_search_keyword_2020.xlsx', engine='xlsxwriter')\n",
    "try:\n",
    "\n",
    "    sql_distint =\"select distinct trend_type from vn_trending\"\n",
    "    cursor.execute(sql_distint)\n",
    "    lst_trend_type = cursor.fetchall()\n",
    "   \n",
    "    sql_distint=\"\"\n",
    "    for i in range(len(lst_trend_type)):\n",
    "        sql_distint=\"\"\"\n",
    "                    select * \n",
    "                    from crosstab(\n",
    "                            'select keywords,date_part(''month'',date) as Thang, sum(value) as giatri\n",
    "                            from vn_trending\n",
    "                            where date_part(''year'',date)=''2020'' and trend_type=''\"\"\"+lst_trend_type[i][0]+\"\"\"''\n",
    "                            group by keywords,date_part(''month'',date) ORDER BY 1',\n",
    "                            'Select distinct date_part(''month'',date) as Thang from vn_trending where trend_type=''songs'' ORDER BY 1 '\n",
    "                            ) as ct (\n",
    "                              keywords text,\n",
    "                              \"Thang 1\" bigint,\n",
    "                              \"Thang 2\" bigint,\n",
    "                              \"Thang 3\" bigint,\n",
    "                              \"Thang 4\" bigint,\n",
    "                              \"Thang 5\" bigint,\n",
    "                              \"Thang 6\" bigint,\n",
    "                              \"Thang 7\" bigint,\n",
    "                              \"Thang 8\" bigint,\n",
    "                              \"Thang 9\" bigint,\n",
    "                              \"Thang 10\" bigint,\n",
    "                              \"Thang 11\" bigint,\n",
    "                              \"Thang 12\" bigint\n",
    "                            );\n",
    "                    \"\"\"\n",
    "        cursor.execute(sql_distint)\n",
    "        columns_names = [ x[0] for x in cursor.description]\n",
    "        rows = cursor.fetchall()\n",
    "        df1 = pd.DataFrame(rows,columns=columns_names)\n",
    "        df1.index += 1\n",
    "        df1.index.name='STT'\n",
    "\n",
    "        df1.to_excel(writer1,sheet_name=lst_trend_type[i][0],startrow=2)\n",
    "        \n",
    "        #Dăt tiêu đề cho các file excel\n",
    "        ws=writer1.sheets[lst_trend_type[i][0]]\n",
    "        \n",
    "        merge_format = workbook.add_format({\n",
    "                                            'bold': 1,\n",
    "                                            'border': 0,\n",
    "                                            'align': 'center',\n",
    "                                            'valign': 'vcenter'})\n",
    "        \n",
    "        ws.merge_range('A1:N1', 'TỪ KHÓA TÌM KIẾM NHIỀU NHẤT TẠI VIỆT NAM',merge_format)\n",
    "        ws.merge_range('A2:N2', 'NĂM 2020',merge_format)\n",
    "        \n",
    "    writer1.save()       \n",
    "except (Exception, psycopg2.DatabaseError) as error:\n",
    "    print(error)    "
   ]
  },
  {
   "cell_type": "markdown",
   "metadata": {},
   "source": [
    "<h2> 2. Vẽ biểu đồ line chart top 5 trending các từ khóa tìm kiếm nhiều nhất 2020, xuất file ảnh top_search_key_2020.png</h2>\n"
   ]
  },
  {
   "cell_type": "markdown",
   "metadata": {},
   "source": [
    "<h3>2.1. Lấy dữu liệu từ DB ra dataframe</h3>"
   ]
  },
  {
   "cell_type": "code",
   "execution_count": 158,
   "metadata": {},
   "outputs": [
    {
     "data": {
      "image/png": "[encoded data removed]",
      "text/plain": [
       "<Figure size 432x288 with 1 Axes>"
      ]
     },
     "metadata": {
      "needs_background": "light"
     },
     "output_type": "display_data"
    },
    {
     "data": {
      "text/plain": [
       "<Figure size 432x288 with 0 Axes>"
      ]
     },
     "metadata": {},
     "output_type": "display_data"
    }
   ],
   "source": [
    "import matplotlib.pyplot as plt\n",
    "sql_top5 =\"select keywords, sum(value) as giatri from vn_trending where date_part('year',date)='2020' group by keywords order by sum(value) desc limit 5\"\n",
    "cursor.execute(sql_top5)\n",
    "#chuyển thành dataframe\n",
    "columns_names = [ x[0] for x in cursor.description]\n",
    "rows = cursor.fetchall()\n",
    "df_top5 = pd.DataFrame(rows,columns=columns_names)\n",
    "df_top5=df_top5.astype({\"giatri\":'int64'}) \n",
    "df_top5.plot(x ='keywords', y='giatri', \n",
    "            kind = 'line',\n",
    "             title ='TỪ KHÓA TÌM KIẾM NHIỀU NHẤT TẠI VIỆT NAM 2020',\n",
    "             rot=30, \n",
    "             fontsize=10,\n",
    "            legend=False)\n",
    "\n",
    "plt.show()\n",
    "plt.savefig('top_search_key_2020.png')\n"
   ]
  },
  {
   "cell_type": "code",
   "execution_count": 160,
   "metadata": {},
   "outputs": [
    {
     "data": {
      "image/png": "[encoded data removed]",
      "text/plain": [
       "<Figure size 432x288 with 1 Axes>"
      ]
     },
     "metadata": {
      "needs_background": "light"
     },
     "output_type": "display_data"
    },
    {
     "data": {
      "text/plain": [
       "<Figure size 432x288 with 0 Axes>"
      ]
     },
     "metadata": {},
     "output_type": "display_data"
    }
   ],
   "source": [
    "import matplotlib.pyplot as plt\n",
    "sql_top5 =\"select keywords, sum(value) as giatri from vn_trending where date_part('year',date)='2019' group by keywords order by sum(value) desc limit 5\"\n",
    "cursor.execute(sql_top5)\n",
    "#chuyển thành dataframe\n",
    "columns_names = [ x[0] for x in cursor.description]\n",
    "rows = cursor.fetchall()\n",
    "df_top5 = pd.DataFrame(rows,columns=columns_names)\n",
    "df_top5=df_top5.astype({\"giatri\":'int64'}) \n",
    "df_top5.plot(x ='keywords', y='giatri', \n",
    "            kind = 'bar',\n",
    "             title ='TỪ KHÓA TÌM KIẾM NHIỀU NHẤT TẠI VIỆT NAM 2019',\n",
    "             rot=30, \n",
    "             fontsize=10,\n",
    "            legend=False)\n",
    "\n",
    "plt.show()\n",
    "plt.savefig('top_search_key_2019.png')\n"
   ]
  },
  {
   "cell_type": "code",
   "execution_count": 161,
   "metadata": {},
   "outputs": [
    {
     "name": "stdout",
     "output_type": "stream",
     "text": [
      "Database connection closed.\n"
     ]
    }
   ],
   "source": [
    "#close connection\n",
    "if conn is not None:\n",
    "    conn.close()\n",
    "    print('Database connection closed.')"
   ]
  },
  {
   "cell_type": "code",
   "execution_count": null,
   "metadata": {},
   "outputs": [],
   "source": []
  }
 ],
 "metadata": {
  "kernelspec": {
   "display_name": "Python 3",
   "language": "python",
   "name": "python3"
  },
  "language_info": {
   "codemirror_mode": {
    "name": "ipython",
    "version": 3
   },
   "file_extension": ".py",
   "mimetype": "text/x-python",
   "name": "python",
   "nbconvert_exporter": "python",
   "pygments_lexer": "ipython3",
   "version": "3.8.3"
  }
 },
 "nbformat": 4,
 "nbformat_minor": 4
}
