{
 "cells": [
  {
   "cell_type": "code",
   "execution_count": 101,
   "metadata": {},
   "outputs": [
    {
     "ename": "SyntaxError",
     "evalue": "invalid syntax (<ipython-input-101-e31530e55b72>, line 1)",
     "output_type": "error",
     "traceback": [
      "\u001b[1;36m  File \u001b[1;32m\"<ipython-input-101-e31530e55b72>\"\u001b[1;36m, line \u001b[1;32m1\u001b[0m\n\u001b[1;33m    pip install pytrends\u001b[0m\n\u001b[1;37m        ^\u001b[0m\n\u001b[1;31mSyntaxError\u001b[0m\u001b[1;31m:\u001b[0m invalid syntax\n"
     ]
    }
   ],
   "source": [
    "pip install pytrends\n"
   ]
  },
  {
   "cell_type": "code",
   "execution_count": 102,
   "metadata": {},
   "outputs": [
    {
     "name": "stdout",
     "output_type": "stream",
     "text": [
      "Requirement already up-to-date: pytrends in c:\\programdata\\anaconda3\\lib\\site-packages (4.7.3)\n",
      "Requirement already satisfied, skipping upgrade: lxml in c:\\programdata\\anaconda3\\lib\\site-packages (from pytrends) (4.5.2)\n",
      "Requirement already satisfied, skipping upgrade: pandas>=0.25 in c:\\programdata\\anaconda3\\lib\\site-packages (from pytrends) (1.0.5)\n",
      "Requirement already satisfied, skipping upgrade: requests in c:\\programdata\\anaconda3\\lib\\site-packages (from pytrends) (2.14.2)\n",
      "Requirement already satisfied, skipping upgrade: numpy>=1.13.3 in c:\\programdata\\anaconda3\\lib\\site-packages (from pandas>=0.25->pytrends) (1.18.5)\n",
      "Requirement already satisfied, skipping upgrade: python-dateutil>=2.6.1 in c:\\programdata\\anaconda3\\lib\\site-packages (from pandas>=0.25->pytrends) (2.8.1)\n",
      "Requirement already satisfied, skipping upgrade: pytz>=2017.2 in c:\\programdata\\anaconda3\\lib\\site-packages (from pandas>=0.25->pytrends) (2020.1)\n",
      "Requirement already satisfied, skipping upgrade: six>=1.5 in c:\\programdata\\anaconda3\\lib\\site-packages (from python-dateutil>=2.6.1->pandas>=0.25->pytrends) (1.15.0)\n",
      "Note: you may need to restart the kernel to use updated packages.\n"
     ]
    },
    {
     "name": "stderr",
     "output_type": "stream",
     "text": [
      "WARNING: You are using pip version 20.2.2; however, version 21.0.1 is available.\n",
      "You should consider upgrading via the 'C:\\ProgramData\\Anaconda3\\python.exe -m pip install --upgrade pip' command.\n"
     ]
    }
   ],
   "source": [
    "pip install pytrends --upgrade"
   ]
  },
  {
   "cell_type": "code",
   "execution_count": 1,
   "metadata": {},
   "outputs": [],
   "source": [
    "from pytrends.request import TrendReq"
   ]
  },
  {
   "cell_type": "code",
   "execution_count": 28,
   "metadata": {},
   "outputs": [],
   "source": [
    "import pandas as pd\n",
    "import time"
   ]
  },
  {
   "cell_type": "code",
   "execution_count": 3,
   "metadata": {},
   "outputs": [],
   "source": [
    "df = pd.read_excel(\"keytrends.xlsx\", sheet_name='key_word')"
   ]
  },
  {
   "cell_type": "code",
   "execution_count": 37,
   "metadata": {},
   "outputs": [],
   "source": [
    "#pytrends = TrendReq(hl='en-US', tz=360, retries=2, backoff_factor=0.1)\n",
    "pytrend = TrendReq(hl='en-US', tz=360, timeout=10)\n",
    "keywords = list(df['news1'].dropna()) \n",
    "#keywords=[\"Bầu cử Tổng thống Mỹ\",\"Covid 19\",\"iPhone 12\"]\n",
    "dataset = []"
   ]
  },
  {
   "cell_type": "code",
   "execution_count": 38,
   "metadata": {},
   "outputs": [],
   "source": [
    "for x in range(0,len(keywords)):\n",
    "    keyword =[keywords[x]]\n",
    "    pytrend.build_payload(\n",
    "        kw_list=keyword,\n",
    "        cat=0,\n",
    "        timeframe='2020-01-01 2020-12-31',\n",
    "        geo='VN',\n",
    "        gprop=''\n",
    "    )\n",
    "    data=pytrend.interest_over_time()\n",
    "    if not data.empty:\n",
    "        data = data.drop(labels=['isPartial'],axis='columns')\n",
    "        dataset.append(data)\n",
    "    time.sleep(30)\n",
    "result=pd.concat(dataset,axis=1)\n",
    "result.to_csv('search_trends.csv')"
   ]
  },
  {
   "cell_type": "code",
   "execution_count": 36,
   "metadata": {},
   "outputs": [
    {
     "name": "stdout",
     "output_type": "stream",
     "text": [
      "[            Bầu cử Tổng thống Mỹ\n",
      "date                            \n",
      "2020-01-05                     0\n",
      "2020-01-12                     0\n",
      "2020-01-19                     0\n",
      "2020-01-26                     0\n",
      "2020-02-02                     0\n",
      "2020-02-09                     0\n",
      "2020-02-16                     0\n",
      "2020-02-23                     0\n",
      "2020-03-01                     0\n",
      "2020-03-08                     0\n",
      "2020-03-15                     0\n",
      "2020-03-22                     0\n",
      "2020-03-29                     0\n",
      "2020-04-05                     0\n",
      "2020-04-12                     0\n",
      "2020-04-19                     0\n",
      "2020-04-26                     0\n",
      "2020-05-03                     0\n",
      "2020-05-10                     0\n",
      "2020-05-17                     0\n",
      "2020-05-24                     0\n",
      "2020-05-31                     0\n",
      "2020-06-07                     0\n",
      "2020-06-14                     0\n",
      "2020-06-21                     0\n",
      "2020-06-28                     0\n",
      "2020-07-05                     0\n",
      "2020-07-12                     0\n",
      "2020-07-19                     0\n",
      "2020-07-26                     0\n",
      "2020-08-02                     0\n",
      "2020-08-09                     0\n",
      "2020-08-16                     0\n",
      "2020-08-23                     0\n",
      "2020-08-30                     0\n",
      "2020-09-06                     0\n",
      "2020-09-13                     0\n",
      "2020-09-20                     0\n",
      "2020-09-27                     0\n",
      "2020-10-04                     0\n",
      "2020-10-11                     0\n",
      "2020-10-18                     1\n",
      "2020-10-25                     1\n",
      "2020-11-01                   100\n",
      "2020-11-08                    18\n",
      "2020-11-15                     6\n",
      "2020-11-22                     4\n",
      "2020-11-29                     2\n",
      "2020-12-06                     2\n",
      "2020-12-13                     2\n",
      "2020-12-20                     1\n",
      "2020-12-27                     1,             Covid 19\n",
      "date                \n",
      "2020-01-05         0\n",
      "2020-01-12         0\n",
      "2020-01-19         0\n",
      "2020-01-26         0\n",
      "2020-02-02         0\n",
      "2020-02-09         2\n",
      "2020-02-16         4\n",
      "2020-02-23         8\n",
      "2020-03-01        13\n",
      "2020-03-08        33\n",
      "2020-03-15        29\n",
      "2020-03-22        33\n",
      "2020-03-29        29\n",
      "2020-04-05        22\n",
      "2020-04-12       100\n",
      "2020-04-19        27\n",
      "2020-04-26         9\n",
      "2020-05-03         7\n",
      "2020-05-10         6\n",
      "2020-05-17         5\n",
      "2020-05-24         4\n",
      "2020-05-31         4\n",
      "2020-06-07         3\n",
      "2020-06-14         3\n",
      "2020-06-21         3\n",
      "2020-06-28         3\n",
      "2020-07-05         2\n",
      "2020-07-12         2\n",
      "2020-07-19         3\n",
      "2020-07-26        17\n",
      "2020-08-02        13\n",
      "2020-08-09         8\n",
      "2020-08-16         6\n",
      "2020-08-23         4\n",
      "2020-08-30         3\n",
      "2020-09-06         2\n",
      "2020-09-13         2\n",
      "2020-09-20         2\n",
      "2020-09-27         2\n",
      "2020-10-04         1\n",
      "2020-10-11         2\n",
      "2020-10-18         1\n",
      "2020-10-25         2\n",
      "2020-11-01         1\n",
      "2020-11-08         1\n",
      "2020-11-15         1\n",
      "2020-11-22         2\n",
      "2020-11-29         4\n",
      "2020-12-06         2\n",
      "2020-12-13         2\n",
      "2020-12-20         2\n",
      "2020-12-27         2,             iPhone 12\n",
      "date                 \n",
      "2020-01-05          2\n",
      "2020-01-12          2\n",
      "2020-01-19          3\n",
      "2020-01-26          3\n",
      "2020-02-02          2\n",
      "2020-02-09          3\n",
      "2020-02-16          6\n",
      "2020-02-23          3\n",
      "2020-03-01          4\n",
      "2020-03-08          4\n",
      "2020-03-15          3\n",
      "2020-03-22          3\n",
      "2020-03-29          3\n",
      "2020-04-05          3\n",
      "2020-04-12          3\n",
      "2020-04-19          3\n",
      "2020-04-26          3\n",
      "2020-05-03          4\n",
      "2020-05-10          7\n",
      "2020-05-17          6\n",
      "2020-05-24          4\n",
      "2020-05-31          4\n",
      "2020-06-07          5\n",
      "2020-06-14          5\n",
      "2020-06-21          6\n",
      "2020-06-28          6\n",
      "2020-07-05          9\n",
      "2020-07-12          7\n",
      "2020-07-19          7\n",
      "2020-07-26          6\n",
      "2020-08-02          7\n",
      "2020-08-09          9\n",
      "2020-08-16         11\n",
      "2020-08-23         10\n",
      "2020-08-30         12\n",
      "2020-09-06         24\n",
      "2020-09-13         39\n",
      "2020-09-20         20\n",
      "2020-09-27         18\n",
      "2020-10-04         21\n",
      "2020-10-11        100\n",
      "2020-10-18         46\n",
      "2020-10-25         47\n",
      "2020-11-01         29\n",
      "2020-11-08         33\n",
      "2020-11-15         37\n",
      "2020-11-22         46\n",
      "2020-11-29         52\n",
      "2020-12-06         42\n",
      "2020-12-13         38\n",
      "2020-12-20         40\n",
      "2020-12-27         42]\n"
     ]
    }
   ],
   "source": [
    "print(dataset)"
   ]
  },
  {
   "cell_type": "code",
   "execution_count": 14,
   "metadata": {},
   "outputs": [],
   "source": [
    "pytrend=TrendReq(hl='en-US')\n",
    "keywords=[\"Bầu cử Tổng thống Mỹ\",\"Covid 19\",\"iPhone 12\",\"Tuấn 'khỉ'\"]\n",
    "pytrend.build_payload(\n",
    "    kw_list=keywords,\n",
    "    cat=0,\n",
    "    timeframe='2020-01-01 2020-12-31',\n",
    "    geo='VN'\n",
    ")\n",
    "data = pytrend.interest_over_time()\n",
    "if not data.empty:\n",
    "        data = data.drop(labels=['isPartial'],axis='columns')\n",
    "        \n"
   ]
  },
  {
   "cell_type": "code",
   "execution_count": 15,
   "metadata": {},
   "outputs": [
    {
     "name": "stdout",
     "output_type": "stream",
     "text": [
      "            Bầu cử Tổng thống Mỹ  Covid 19  iPhone 12  Tuấn 'khỉ'\n",
      "date                                                             \n",
      "2020-01-05                     0         0          0           0\n",
      "2020-01-12                     0         0          0           0\n",
      "2020-01-19                     0         0          0           0\n",
      "2020-01-26                     0         0          0           8\n",
      "2020-02-02                     0         0          0          16\n",
      "2020-02-09                     0         2          1          30\n",
      "2020-02-16                     0         4          1           8\n",
      "2020-02-23                     0         8          1           2\n",
      "2020-03-01                     0        13          1           1\n",
      "2020-03-08                     0        33          1           1\n",
      "2020-03-15                     0        29          0           0\n",
      "2020-03-22                     0        33          1           0\n",
      "2020-03-29                     0        29          0           0\n",
      "2020-04-05                     0        22          1           0\n",
      "2020-04-12                     0       100          1           0\n",
      "2020-04-19                     0        27          1           0\n",
      "2020-04-26                     0         9          1           0\n",
      "2020-05-03                     0         7          1           0\n",
      "2020-05-10                     0         6          1           0\n",
      "2020-05-17                     0         5          1           0\n",
      "2020-05-24                     0         4          1           0\n",
      "2020-05-31                     0         4          1           0\n",
      "2020-06-07                     0         3          1           0\n",
      "2020-06-14                     0         3          1           0\n",
      "2020-06-21                     0         3          1           0\n",
      "2020-06-28                     0         3          1           0\n",
      "2020-07-05                     0         2          1           0\n",
      "2020-07-12                     0         2          1           0\n",
      "2020-07-19                     0         3          1           0\n",
      "2020-07-26                     0        17          1           0\n",
      "2020-08-02                     0        13          1           0\n",
      "2020-08-09                     0         8          1           0\n",
      "2020-08-16                     0         6          2           0\n",
      "2020-08-23                     0         4          2           0\n",
      "2020-08-30                     0         3          2           0\n",
      "2020-09-06                     0         2          4           0\n",
      "2020-09-13                     0         2          6           0\n",
      "2020-09-20                     0         2          3           0\n",
      "2020-09-27                     0         2          3           0\n",
      "2020-10-04                     0         1          3           0\n",
      "2020-10-11                     0         2         16           0\n",
      "2020-10-18                     1         1          7           0\n",
      "2020-10-25                     1         2          8           0\n",
      "2020-11-01                    90         1          5           0\n",
      "2020-11-08                    16         1          5           0\n",
      "2020-11-15                     6         1          6           0\n",
      "2020-11-22                     3         2          7           0\n",
      "2020-11-29                     2         4          9           0\n",
      "2020-12-06                     2         2          7           0\n",
      "2020-12-13                     2         2          6           0\n",
      "2020-12-20                     1         2          7           0\n",
      "2020-12-27                     1         2          7           0\n"
     ]
    }
   ],
   "source": [
    "print (data)"
   ]
  },
  {
   "cell_type": "code",
   "execution_count": null,
   "metadata": {},
   "outputs": [],
   "source": []
  }
 ],
 "metadata": {
  "kernelspec": {
   "display_name": "Python 3",
   "language": "python",
   "name": "python3"
  },
  "language_info": {
   "codemirror_mode": {
    "name": "ipython",
    "version": 3
   },
   "file_extension": ".py",
   "mimetype": "text/x-python",
   "name": "python",
   "nbconvert_exporter": "python",
   "pygments_lexer": "ipython3",
   "version": "3.8.3"
  }
 },
 "nbformat": 4,
 "nbformat_minor": 4
}
